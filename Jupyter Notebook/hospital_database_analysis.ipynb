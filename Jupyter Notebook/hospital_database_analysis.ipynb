{
 "cells": [
  {
   "cell_type": "markdown",
   "metadata": {},
   "source": [
    "- Exercise 1: Connect to your database server and print its version\n",
    "- Exercise 2: Fetch Hospital and Doctor Information using hospital Id and doctor Id\n",
    "- Exercise 3: Get the list Of doctors as per the given specialty and salary\n",
    "- Exercise 4: Get a list of doctors from a given hospital\n",
    "- Exercise 5: Update doctor experience in years\n",
    "- Exercise 6: Close the connection and verify it."
   ]
  },
  {
   "cell_type": "code",
   "execution_count": 2,
   "metadata": {},
   "outputs": [],
   "source": [
    "# Importing libraries\n",
    "import sqlite3\n",
    "import pandas as pd"
   ]
  },
  {
   "cell_type": "markdown",
   "metadata": {},
   "source": [
    "#### Question 1: Connect to your database server and print its version\n",
    "--- "
   ]
  },
  {
   "cell_type": "code",
   "execution_count": 48,
   "metadata": {},
   "outputs": [
    {
     "name": "stdout",
     "output_type": "stream",
     "text": [
      "Question 1:\n",
      "\n",
      "Database connected successfully\n",
      "\n",
      "SQLite version: 3.43.2\n"
     ]
    }
   ],
   "source": [
    "# Question 1: Connect to your database server and print its version\n",
    "try:\n",
    "  # Create a connection object\n",
    "  sqlconnection = sqlite3.connect(\"HospitalInfo.db\")\n",
    "  \n",
    "  # Print the SQLite version\n",
    "  print(\"Question 1:\\n\")\n",
    "  print(\"Database connected successfully\\n\")\n",
    "  version_query = \"SELECT sqlite_version();\"\n",
    "  version = pd.read_sql_query(version_query, sqlconnection)\n",
    "  print(\"SQLite version:\", version.iloc[0, 0])\n",
    "\n",
    "except sqlite3.Error as error:\n",
    "  print(f\"Error occurred: {error}\")"
   ]
  },
  {
   "cell_type": "code",
   "execution_count": 10,
   "metadata": {},
   "outputs": [
    {
     "name": "stdout",
     "output_type": "stream",
     "text": [
      "\n",
      "Tables in the database:\n",
      "\n",
      "Table: Hospital\n",
      "       name     type\n",
      "0        ID  INTEGER\n",
      "1      Name     TEXT\n",
      "2  BedCount  INTEGER\n",
      "\n",
      "Table: Doctor\n",
      "          name     type\n",
      "0        DocID  INTEGER\n",
      "1      DocName     TEXT\n",
      "2   HospitalID  INTEGER\n",
      "3  JoiningDate     BLOB\n",
      "4   Speciality     TEXT\n",
      "5          Exp     TEXT\n",
      "6       salary     REAL\n"
     ]
    }
   ],
   "source": [
    "# Let us find the table names and columns information for each table\n",
    "try:\n",
    "    # Create a connection object\n",
    "    sqlconnection = sqlite3.connect(\"HospitalInfo.db\")\n",
    "    cursor = sqlconnection.cursor()\n",
    "\n",
    "    # Get all table names\n",
    "    cursor.execute(\"SELECT name FROM sqlite_master WHERE type='table';\")\n",
    "    tables = cursor.fetchall()\n",
    "\n",
    "    print(\"\\nTables in the database:\")\n",
    "    for table in tables:\n",
    "        table_name = table[0]\n",
    "        print(f\"\\nTable: {table_name}\")\n",
    "        \n",
    "        # Get column information for each table\n",
    "        cursor.execute(f\"PRAGMA table_info({table_name})\")\n",
    "        columns = cursor.fetchall()\n",
    "        \n",
    "        # Create a DataFrame to display the information nicely\n",
    "        df = pd.DataFrame(columns, columns=['cid', 'name', 'type', 'notnull', 'dflt_value', 'pk'])\n",
    "        print(df[['name', 'type']])  # Display only column name and type\n",
    "\n",
    "except sqlite3.Error as error:\n",
    "    print(f\"Error occurred: {error}\")"
   ]
  },
  {
   "cell_type": "markdown",
   "metadata": {},
   "source": [
    "#### Question 2 : Fetching Hospital and Doctor information using Hospital ID and Doctor ID\n",
    "---"
   ]
  },
  {
   "cell_type": "code",
   "execution_count": 23,
   "metadata": {},
   "outputs": [
    {
     "name": "stdout",
     "output_type": "stream",
     "text": [
      "\n",
      "Fetching Hospital information for ID: 104\n",
      "    ID             Name  BedCount\n",
      "0  104  Clevland Clinic        30\n",
      "\n",
      "Fetching Doctor information for ID: 1\n",
      "   DocID  DocName  HospitalID JoiningDate Speciality Exp    salary\n",
      "0      1  Michael         101  2005-02-10  Pediatric  10  900000.0\n"
     ]
    }
   ],
   "source": [
    "# Fetching Hospital and Doctor information using Hospital ID and Doctor ID\n",
    "try:\n",
    "    hospital_id = int(input(\"Enter Hospital ID: \"))\n",
    "    query_hospital = \"SELECT * FROM Hospital WHERE ID = ?\"\n",
    "    doctor_id = int(input(\"Enter Doctor ID: \"))\n",
    "    query_doctor = \"SELECT * FROM Doctor WHERE DocID = ?\"\n",
    "\n",
    "    \n",
    "    # Execute the query and fetch results\n",
    "    df_hospital = pd.read_sql_query(query_hospital, sqlconnection, params=(hospital_id,))\n",
    "    df_doctor = pd.read_sql_query(query_doctor, sqlconnection, params=(doctor_id,))\n",
    "    \n",
    "    # Print the result\n",
    "    if not df_hospital.empty:\n",
    "        print(f\"\\nFetching Hospital information for ID: {hospital_id}\")\n",
    "        print(df_hospital)\n",
    "    else:\n",
    "        print(f\"No matching records found for Hospital with ID {hospital_id}.\")\n",
    "\n",
    "    if not df_doctor.empty:\n",
    "        print(f\"\\nFetching Doctor information for ID: {doctor_id}\")\n",
    "        print(df_doctor)\n",
    "    else:\n",
    "        print(f\"No matching records found for Doctor with ID {doctor_id}.\")    \n",
    "\n",
    "except ValueError:\n",
    "    print(\"Please enter valid integer IDs.\")\n",
    "except pd.io.sql.DatabaseError as error:\n",
    "    print(f\"Error occurred: {error}\")"
   ]
  },
  {
   "cell_type": "markdown",
   "metadata": {},
   "source": [
    "#### Question 3 : Get the list Of doctors as per the given speciality and salary\n",
    "---"
   ]
  },
  {
   "cell_type": "code",
   "execution_count": 25,
   "metadata": {},
   "outputs": [
    {
     "name": "stdout",
     "output_type": "stream",
     "text": [
      "\n",
      "Fetching Doctor information for speciality `pediatric` and salary `900000.0`\n",
      "\n",
      "   DocID  DocName  HospitalID JoiningDate Speciality Exp    salary\n",
      "0      1  Michael         101  2005-02-10  Pediatric  10  900000.0\n"
     ]
    }
   ],
   "source": [
    "# Get the list Of doctors as per the given speciality and salary\n",
    "try:\n",
    "    speciality = input(\"Enter Speciality information: \").lower()\n",
    "    salary = float(input(\"Enter Salary information: \"))\n",
    "    query_doctor = \"SELECT * FROM Doctor WHERE LOWER(Speciality) = ? and salary = ?\"\n",
    "\n",
    "    \n",
    "    # Execute the query and fetch results\n",
    "    df_doctor = pd.read_sql_query(query_doctor, sqlconnection, params=(speciality,salary))\n",
    "    \n",
    "    if not df_doctor.empty:\n",
    "        print(f\"\\nFetching Doctor information for speciality `{speciality}` and salary `{salary}`\\n\")\n",
    "        print(df_doctor)\n",
    "    else:\n",
    "        print(f\"\\nNo matching records found for Doctor with speciality `{speciality}` and salary `{salary}`.\\n\")    \n",
    "\n",
    "except ValueError:\n",
    "    print(\"Please enter valid format for speciality and salary.\")\n",
    "except pd.io.sql.DatabaseError as error:\n",
    "    print(f\"Error occurred: {error}\")"
   ]
  },
  {
   "cell_type": "markdown",
   "metadata": {},
   "source": [
    "#### Exercise 4: Get a list of doctors from a given hospital\n",
    "---"
   ]
  },
  {
   "cell_type": "code",
   "execution_count": 37,
   "metadata": {},
   "outputs": [
    {
     "name": "stdout",
     "output_type": "stream",
     "text": [
      "\n",
      "Fetching Doctor information for hospital with id `104`\n",
      "\n",
      "   DocID DocName  HospitalID JoiningDate Speciality Exp    salary\n",
      "0      6  Robert         104  1998-09-04      Gyane  14  940000.0\n"
     ]
    }
   ],
   "source": [
    "# Get the list Of doctors from a given hospital\n",
    "try:\n",
    "    hospital_id = int(input(\"Enter Hospital ID: \"))\n",
    "    query = \"\"\"\n",
    "    SELECT D.*\n",
    "    FROM Doctor D\n",
    "    JOIN Hospital H ON D.HospitalID = H.ID\n",
    "    WHERE H.ID = ?\n",
    "    \"\"\"\n",
    "\n",
    "    # Execute the query and fetch results\n",
    "    df = pd.read_sql_query(query, sqlconnection, params=(hospital_id, ))\n",
    "    \n",
    "    if not df.empty:\n",
    "        print(f\"\\nFetching Doctor information for hospital with id `{hospital_id}`\\n\")\n",
    "        print(df)\n",
    "    else:\n",
    "        print(f\"\\nNo matching records found for Doctor.\\n\")    \n",
    "\n",
    "except ValueError:\n",
    "    print(\"Please enter valid format for ID.\")\n",
    "except pd.io.sql.DatabaseError as error:\n",
    "    print(f\"Error occurred: {error}\")"
   ]
  },
  {
   "cell_type": "markdown",
   "metadata": {},
   "source": [
    "#### Exercise 5: Update doctor experience in years\n",
    "---"
   ]
  },
  {
   "cell_type": "code",
   "execution_count": 44,
   "metadata": {},
   "outputs": [
    {
     "name": "stdout",
     "output_type": "stream",
     "text": [
      "(5, 'Karen', 103, '2020-09-05', 'Oncologist', '4', 1100000.0)\n",
      "\n",
      "Experience updated for Doctor ID 5\n",
      "(5, 'Karen', 103, '2020-09-05', 'Oncologist', '10', 1100000.0)\n"
     ]
    }
   ],
   "source": [
    "try:\n",
    "    doctor_id = int(input(\"Enter Doctor ID: \"))\n",
    "    new_experience = input(\"Enter new experience (in years): \")\n",
    "\n",
    "    # Check if the doctor exists\n",
    "    find_doctor = \"SELECT * FROM Doctor WHERE DocID = ?\"\n",
    "    cursor.execute(find_doctor, (doctor_id,))\n",
    "    result = cursor.fetchone()\n",
    "\n",
    "    # Update the doctor's experience if the doctor exists\n",
    "    if result:\n",
    "        print(result)\n",
    "        update_query = \"UPDATE Doctor SET Exp = ? WHERE DocID = ?\"\n",
    "        cursor.execute(update_query, (new_experience, doctor_id))\n",
    "        sqlconnection.commit()\n",
    "        print(f\"\\nExperience updated for Doctor ID {doctor_id}\")\n",
    "        cursor.execute(find_doctor, (doctor_id,))\n",
    "        print(cursor.fetchone())\n",
    "    else:\n",
    "        print(f\"No doctor found with ID {doctor_id}\") \n",
    "\n",
    "except ValueError:\n",
    "    print(\"Please enter valid format for ID.\")\n",
    "except pd.io.sql.DatabaseError as error:\n",
    "    print(f\"Error occurred: {error}\")"
   ]
  },
  {
   "cell_type": "markdown",
   "metadata": {},
   "source": [
    "#### Exercise 6: Close the connection and verify it.\n",
    "---"
   ]
  },
  {
   "cell_type": "code",
   "execution_count": 50,
   "metadata": {},
   "outputs": [
    {
     "name": "stdout",
     "output_type": "stream",
     "text": [
      "\n",
      "Database connection closed.\n"
     ]
    }
   ],
   "source": [
    "# Closing the connection\n",
    "if 'sqlconnection' in locals():\n",
    "      sqlconnection.close()\n",
    "      print(\"\\nDatabase connection closed.\")"
   ]
  },
  {
   "cell_type": "code",
   "execution_count": 51,
   "metadata": {},
   "outputs": [
    {
     "name": "stdout",
     "output_type": "stream",
     "text": [
      "The connection is closed.\n"
     ]
    }
   ],
   "source": [
    "# Verify if the connection is closed\n",
    "try:\n",
    "    sqlconnection.execute(\"SELECT 1\")\n",
    "    print(\"The connection is still open.\")\n",
    "except:\n",
    "    print(\"The connection is closed.\")"
   ]
  }
 ],
 "metadata": {
  "kernelspec": {
   "display_name": "notebooks_env",
   "language": "python",
   "name": "python3"
  },
  "language_info": {
   "codemirror_mode": {
    "name": "ipython",
    "version": 3
   },
   "file_extension": ".py",
   "mimetype": "text/x-python",
   "name": "python",
   "nbconvert_exporter": "python",
   "pygments_lexer": "ipython3",
   "version": "3.12.5"
  }
 },
 "nbformat": 4,
 "nbformat_minor": 2
}
